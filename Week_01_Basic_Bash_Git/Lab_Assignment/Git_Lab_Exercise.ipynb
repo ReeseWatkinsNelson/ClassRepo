{
 "cells": [
  {
   "cell_type": "markdown",
   "id": "41bb0d88",
   "metadata": {},
   "source": [
    "# Git Lab Exercise\n",
    "\n",
    "In this exercise, student needs to complete the following tasks:\n",
    "\n",
    "### Create a GitHub account on [GitHub](www.github.com)\n",
    "\n",
    "<img src=\"./images/github.png\" alt=\"drawing\" width=\"55%\" height=\"55\"/>\n",
    "\n",
    "### Create a new repository on GitHub and call it \"Hello-World\"\n",
    "\n",
    "<img src=\"./images/helloworld.png\" alt=\"drawing\" width=\"65%\" height=\"65\"/>\n",
    "\n",
    "### Git Clone\n",
    "\n",
    "Use Git Bash or other command line interpreter (command prompt, terminal, etc ...) to clone the \"Hello-World\" repo to **Desktop**\n",
    "\n",
    "<img src=\"./images/gitclone.png\" alt=\"drawing\" width=\"50%\" height=\"50\"/>\n",
    "\n",
    "\n",
    "**NOTE: please do not copy the code in the picture because the path to your repo is different to the one in the picture.**\n",
    "\n",
    "### Create the following items in the repository,\n",
    "\n",
    "1. **image folder**, then put a screen shot of the GitHub repository page into the folder and call it **Git.png**\n",
    "    \n",
    "    <img src=\"./images/helloworld.png\" alt=\"drawing\" width=\"60%\" height=\"60\"/>\n",
    "    \n",
    "2. **log.txt** and manually type out the log of the repository:  \n",
    "    \n",
    "    Example: **Event Log: 08-22-2022 | 21:00:00 | Repository created**\n",
    "        \n",
    "    <img src=\"./images/logtext.png\" alt=\"drawing\" width=\"40%\" height=\"40\"/>\n",
    "        \n",
    "3. **data folder**, then download the GDP time series dataset from the [Fed](https://fred.stlouisfed.org/series/GDP) in CSV format, save it into the folder, and call it **gdp.csv**\n",
    "    \n",
    "    <img src=\"./images/fed.png\" alt=\"drawing\" width=\"50%\" height=\"50\"/>\n",
    "    \n",
    "### Git Add, Commit, and Push\n",
    "\n",
    "Once the items were created, use the command line interpreter to add the changes to the staging status, commit the changes with an intuitive message, and push the changes back to the remote repository on GitHub.\n",
    "\n",
    "<img src=\"./images/gitaddpush.png\" alt=\"drawing\" width=\"50%\" height=\"50\"/>\n",
    "\n",
    "### Finally, submit the repository link on Canvas for grading.\n",
    "\n"
   ]
  },
  {
   "cell_type": "markdown",
   "id": "742fb164",
   "metadata": {},
   "source": []
  }
 ],
 "metadata": {
  "kernelspec": {
   "display_name": "Python 3 (ipykernel)",
   "language": "python",
   "name": "python3"
  },
  "language_info": {
   "codemirror_mode": {
    "name": "ipython",
    "version": 3
   },
   "file_extension": ".py",
   "mimetype": "text/x-python",
   "name": "python",
   "nbconvert_exporter": "python",
   "pygments_lexer": "ipython3",
   "version": "3.8.12"
  },
  "latex_envs": {
   "LaTeX_envs_menu_present": true,
   "autoclose": false,
   "autocomplete": true,
   "bibliofile": "biblio.bib",
   "cite_by": "apalike",
   "current_citInitial": 1,
   "eqLabelWithNumbers": true,
   "eqNumInitial": 1,
   "hotkeys": {
    "equation": "Ctrl-E",
    "itemize": "Ctrl-I"
   },
   "labels_anchors": false,
   "latex_user_defs": false,
   "report_style_numbering": false,
   "user_envs_cfg": false
  },
  "toc": {
   "base_numbering": 1,
   "nav_menu": {},
   "number_sections": true,
   "sideBar": true,
   "skip_h1_title": false,
   "title_cell": "Table of Contents",
   "title_sidebar": "Contents",
   "toc_cell": false,
   "toc_position": {},
   "toc_section_display": true,
   "toc_window_display": false
  }
 },
 "nbformat": 4,
 "nbformat_minor": 5
}
